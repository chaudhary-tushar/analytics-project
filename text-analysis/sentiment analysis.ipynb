{
 "cells": [
  {
   "cell_type": "code",
   "execution_count": 1,
   "metadata": {},
   "outputs": [],
   "source": [
    "import pandas as pd\n",
    "import numpy as np\n",
    "import matplotlib.pyplot as plt\n",
    "import seaborn as sns"
   ]
  },
  {
   "cell_type": "code",
   "execution_count": 2,
   "metadata": {},
   "outputs": [
    {
     "name": "stderr",
     "output_type": "stream",
     "text": [
      "b'Skipping line 113225: expected 4 fields, saw 5\\n'\n",
      "b'Skipping line 158379: expected 4 fields, saw 7\\nSkipping line 241590: expected 4 fields, saw 5\\nSkipping line 245637: expected 4 fields, saw 7\\n'\n",
      "b'Skipping line 521402: expected 4 fields, saw 5\\n'\n"
     ]
    }
   ],
   "source": [
    "comments=pd.read_csv('D:\\STUDIES\\pyplot projects\\youtube/GBcomments.csv' , error_bad_lines=False)"
   ]
  },
  {
   "cell_type": "code",
   "execution_count": 3,
   "metadata": {},
   "outputs": [
    {
     "data": {
      "text/html": [
       "<div>\n",
       "<style scoped>\n",
       "    .dataframe tbody tr th:only-of-type {\n",
       "        vertical-align: middle;\n",
       "    }\n",
       "\n",
       "    .dataframe tbody tr th {\n",
       "        vertical-align: top;\n",
       "    }\n",
       "\n",
       "    .dataframe thead th {\n",
       "        text-align: right;\n",
       "    }\n",
       "</style>\n",
       "<table border=\"1\" class=\"dataframe\">\n",
       "  <thead>\n",
       "    <tr style=\"text-align: right;\">\n",
       "      <th></th>\n",
       "      <th>video_id</th>\n",
       "      <th>comment_text</th>\n",
       "      <th>likes</th>\n",
       "      <th>replies</th>\n",
       "    </tr>\n",
       "  </thead>\n",
       "  <tbody>\n",
       "    <tr>\n",
       "      <th>0</th>\n",
       "      <td>jt2OHQh0HoQ</td>\n",
       "      <td>It's more accurate to call it the M+ (1000) be...</td>\n",
       "      <td>0</td>\n",
       "      <td>0</td>\n",
       "    </tr>\n",
       "    <tr>\n",
       "      <th>1</th>\n",
       "      <td>jt2OHQh0HoQ</td>\n",
       "      <td>To be there with a samsung phone\\n😂😂😂</td>\n",
       "      <td>1</td>\n",
       "      <td>0</td>\n",
       "    </tr>\n",
       "    <tr>\n",
       "      <th>2</th>\n",
       "      <td>jt2OHQh0HoQ</td>\n",
       "      <td>Thank gosh, a place I can watch it without hav...</td>\n",
       "      <td>0</td>\n",
       "      <td>0</td>\n",
       "    </tr>\n",
       "    <tr>\n",
       "      <th>3</th>\n",
       "      <td>jt2OHQh0HoQ</td>\n",
       "      <td>What happened to the home button on the iPhone...</td>\n",
       "      <td>0</td>\n",
       "      <td>0</td>\n",
       "    </tr>\n",
       "    <tr>\n",
       "      <th>4</th>\n",
       "      <td>jt2OHQh0HoQ</td>\n",
       "      <td>Power is the disease.  Care is the cure.  Keep...</td>\n",
       "      <td>0</td>\n",
       "      <td>0</td>\n",
       "    </tr>\n",
       "  </tbody>\n",
       "</table>\n",
       "</div>"
      ],
      "text/plain": [
       "      video_id                                       comment_text  likes  \\\n",
       "0  jt2OHQh0HoQ  It's more accurate to call it the M+ (1000) be...      0   \n",
       "1  jt2OHQh0HoQ              To be there with a samsung phone\\n😂😂😂      1   \n",
       "2  jt2OHQh0HoQ  Thank gosh, a place I can watch it without hav...      0   \n",
       "3  jt2OHQh0HoQ  What happened to the home button on the iPhone...      0   \n",
       "4  jt2OHQh0HoQ  Power is the disease.  Care is the cure.  Keep...      0   \n",
       "\n",
       "   replies  \n",
       "0        0  \n",
       "1        0  \n",
       "2        0  \n",
       "3        0  \n",
       "4        0  "
      ]
     },
     "execution_count": 3,
     "metadata": {},
     "output_type": "execute_result"
    }
   ],
   "source": [
    "comments.head()"
   ]
  },
  {
   "cell_type": "code",
   "execution_count": 4,
   "metadata": {},
   "outputs": [
    {
     "name": "stdout",
     "output_type": "stream",
     "text": [
      "Requirement already satisfied: textblob in c:\\users\\tusha\\anaconda3\\lib\\site-packages (0.15.3)\n",
      "Requirement already satisfied: nltk>=3.1 in c:\\users\\tusha\\anaconda3\\lib\\site-packages (from textblob) (3.5)\n",
      "Requirement already satisfied: joblib in c:\\users\\tusha\\anaconda3\\lib\\site-packages (from nltk>=3.1->textblob) (0.17.0)\n",
      "Requirement already satisfied: regex in c:\\users\\tusha\\anaconda3\\lib\\site-packages (from nltk>=3.1->textblob) (2020.10.15)\n",
      "Requirement already satisfied: tqdm in c:\\users\\tusha\\anaconda3\\lib\\site-packages (from nltk>=3.1->textblob) (4.50.2)\n",
      "Requirement already satisfied: click in c:\\users\\tusha\\anaconda3\\lib\\site-packages (from nltk>=3.1->textblob) (7.1.2)\n"
     ]
    },
    {
     "name": "stderr",
     "output_type": "stream",
     "text": [
      "WARNING: You are using pip version 21.0.1; however, version 21.1.1 is available.\n",
      "You should consider upgrading via the 'c:\\users\\tusha\\anaconda3\\python.exe -m pip install --upgrade pip' command.\n"
     ]
    }
   ],
   "source": [
    "!pip install textblob"
   ]
  },
  {
   "cell_type": "code",
   "execution_count": 5,
   "metadata": {},
   "outputs": [],
   "source": [
    "from textblob import TextBlob"
   ]
  },
  {
   "cell_type": "code",
   "execution_count": 6,
   "metadata": {},
   "outputs": [
    {
     "data": {
      "text/plain": [
       "0.45000000000000007"
      ]
     },
     "execution_count": 6,
     "metadata": {},
     "output_type": "execute_result"
    }
   ],
   "source": [
    "TextBlob(\"It's more accurate to call it the M+ (1000) be...\").sentiment.polarity"
   ]
  },
  {
   "cell_type": "code",
   "execution_count": 7,
   "metadata": {},
   "outputs": [
    {
     "data": {
      "text/plain": [
       "video_id         0\n",
       "comment_text    28\n",
       "likes            0\n",
       "replies          0\n",
       "dtype: int64"
      ]
     },
     "execution_count": 7,
     "metadata": {},
     "output_type": "execute_result"
    }
   ],
   "source": [
    "comments.isna().sum()"
   ]
  },
  {
   "cell_type": "code",
   "execution_count": 8,
   "metadata": {},
   "outputs": [],
   "source": [
    "comments.dropna(inplace=True)"
   ]
  },
  {
   "cell_type": "code",
   "execution_count": 9,
   "metadata": {},
   "outputs": [],
   "source": [
    "polarity=[]\n",
    "for i in comments['comment_text']:\n",
    "    polarity.append(TextBlob(i).sentiment.polarity)\n",
    "    "
   ]
  },
  {
   "cell_type": "code",
   "execution_count": 10,
   "metadata": {},
   "outputs": [],
   "source": [
    "comments['polarity']=polarity"
   ]
  },
  {
   "cell_type": "code",
   "execution_count": 11,
   "metadata": {},
   "outputs": [
    {
     "data": {
      "text/html": [
       "<div>\n",
       "<style scoped>\n",
       "    .dataframe tbody tr th:only-of-type {\n",
       "        vertical-align: middle;\n",
       "    }\n",
       "\n",
       "    .dataframe tbody tr th {\n",
       "        vertical-align: top;\n",
       "    }\n",
       "\n",
       "    .dataframe thead th {\n",
       "        text-align: right;\n",
       "    }\n",
       "</style>\n",
       "<table border=\"1\" class=\"dataframe\">\n",
       "  <thead>\n",
       "    <tr style=\"text-align: right;\">\n",
       "      <th></th>\n",
       "      <th>video_id</th>\n",
       "      <th>comment_text</th>\n",
       "      <th>likes</th>\n",
       "      <th>replies</th>\n",
       "      <th>polarity</th>\n",
       "    </tr>\n",
       "  </thead>\n",
       "  <tbody>\n",
       "    <tr>\n",
       "      <th>0</th>\n",
       "      <td>jt2OHQh0HoQ</td>\n",
       "      <td>It's more accurate to call it the M+ (1000) be...</td>\n",
       "      <td>0</td>\n",
       "      <td>0</td>\n",
       "      <td>0.450000</td>\n",
       "    </tr>\n",
       "    <tr>\n",
       "      <th>1</th>\n",
       "      <td>jt2OHQh0HoQ</td>\n",
       "      <td>To be there with a samsung phone\\n😂😂😂</td>\n",
       "      <td>1</td>\n",
       "      <td>0</td>\n",
       "      <td>0.000000</td>\n",
       "    </tr>\n",
       "    <tr>\n",
       "      <th>2</th>\n",
       "      <td>jt2OHQh0HoQ</td>\n",
       "      <td>Thank gosh, a place I can watch it without hav...</td>\n",
       "      <td>0</td>\n",
       "      <td>0</td>\n",
       "      <td>0.000000</td>\n",
       "    </tr>\n",
       "    <tr>\n",
       "      <th>3</th>\n",
       "      <td>jt2OHQh0HoQ</td>\n",
       "      <td>What happened to the home button on the iPhone...</td>\n",
       "      <td>0</td>\n",
       "      <td>0</td>\n",
       "      <td>0.000000</td>\n",
       "    </tr>\n",
       "    <tr>\n",
       "      <th>4</th>\n",
       "      <td>jt2OHQh0HoQ</td>\n",
       "      <td>Power is the disease.  Care is the cure.  Keep...</td>\n",
       "      <td>0</td>\n",
       "      <td>0</td>\n",
       "      <td>1.000000</td>\n",
       "    </tr>\n",
       "    <tr>\n",
       "      <th>5</th>\n",
       "      <td>jt2OHQh0HoQ</td>\n",
       "      <td>Keep calm and buy iphone 8 Keep calm and buy i...</td>\n",
       "      <td>0</td>\n",
       "      <td>0</td>\n",
       "      <td>0.300000</td>\n",
       "    </tr>\n",
       "    <tr>\n",
       "      <th>6</th>\n",
       "      <td>jt2OHQh0HoQ</td>\n",
       "      <td>i am a big fan of youtube and u !!!!!!!!!!!!!</td>\n",
       "      <td>0</td>\n",
       "      <td>0</td>\n",
       "      <td>0.000000</td>\n",
       "    </tr>\n",
       "    <tr>\n",
       "      <th>7</th>\n",
       "      <td>jt2OHQh0HoQ</td>\n",
       "      <td>You will never find Losers who line up and pay...</td>\n",
       "      <td>0</td>\n",
       "      <td>0</td>\n",
       "      <td>-0.100000</td>\n",
       "    </tr>\n",
       "    <tr>\n",
       "      <th>8</th>\n",
       "      <td>jt2OHQh0HoQ</td>\n",
       "      <td>*APPLE JUST COMMENTED ON MY LAST VIDEO* I'm cr...</td>\n",
       "      <td>0</td>\n",
       "      <td>0</td>\n",
       "      <td>0.028571</td>\n",
       "    </tr>\n",
       "    <tr>\n",
       "      <th>9</th>\n",
       "      <td>jt2OHQh0HoQ</td>\n",
       "      <td>I'm only here to see Emma, I love her so much!...</td>\n",
       "      <td>0</td>\n",
       "      <td>0</td>\n",
       "      <td>0.500000</td>\n",
       "    </tr>\n",
       "    <tr>\n",
       "      <th>10</th>\n",
       "      <td>jt2OHQh0HoQ</td>\n",
       "      <td>Mom said: Just one more video before bed</td>\n",
       "      <td>0</td>\n",
       "      <td>0</td>\n",
       "      <td>0.500000</td>\n",
       "    </tr>\n",
       "    <tr>\n",
       "      <th>11</th>\n",
       "      <td>jt2OHQh0HoQ</td>\n",
       "      <td>what is the song?? 39:20</td>\n",
       "      <td>0</td>\n",
       "      <td>0</td>\n",
       "      <td>0.000000</td>\n",
       "    </tr>\n",
       "    <tr>\n",
       "      <th>12</th>\n",
       "      <td>jt2OHQh0HoQ</td>\n",
       "      <td>I started crying at 49:01 when Emma's EP showe...</td>\n",
       "      <td>0</td>\n",
       "      <td>0</td>\n",
       "      <td>0.300000</td>\n",
       "    </tr>\n",
       "    <tr>\n",
       "      <th>13</th>\n",
       "      <td>jt2OHQh0HoQ</td>\n",
       "      <td>3 years late on wireless charging, 3 years lat...</td>\n",
       "      <td>0</td>\n",
       "      <td>0</td>\n",
       "      <td>0.026563</td>\n",
       "    </tr>\n",
       "    <tr>\n",
       "      <th>14</th>\n",
       "      <td>jt2OHQh0HoQ</td>\n",
       "      <td>more one before to bed</td>\n",
       "      <td>0</td>\n",
       "      <td>0</td>\n",
       "      <td>0.500000</td>\n",
       "    </tr>\n",
       "    <tr>\n",
       "      <th>15</th>\n",
       "      <td>jt2OHQh0HoQ</td>\n",
       "      <td>subscribe me if you love your mummy</td>\n",
       "      <td>0</td>\n",
       "      <td>0</td>\n",
       "      <td>0.500000</td>\n",
       "    </tr>\n",
       "    <tr>\n",
       "      <th>16</th>\n",
       "      <td>jt2OHQh0HoQ</td>\n",
       "      <td>They really just took the samsung s8 and named...</td>\n",
       "      <td>0</td>\n",
       "      <td>0</td>\n",
       "      <td>0.200000</td>\n",
       "    </tr>\n",
       "    <tr>\n",
       "      <th>17</th>\n",
       "      <td>jt2OHQh0HoQ</td>\n",
       "      <td>so if someone has a twin sibling both can unlo...</td>\n",
       "      <td>0</td>\n",
       "      <td>0</td>\n",
       "      <td>0.250000</td>\n",
       "    </tr>\n",
       "    <tr>\n",
       "      <th>18</th>\n",
       "      <td>jt2OHQh0HoQ</td>\n",
       "      <td>For god sake its better than my ps4pro</td>\n",
       "      <td>0</td>\n",
       "      <td>0</td>\n",
       "      <td>0.500000</td>\n",
       "    </tr>\n",
       "    <tr>\n",
       "      <th>19</th>\n",
       "      <td>jt2OHQh0HoQ</td>\n",
       "      <td>7mp cam what kind of standard is this in 2017?</td>\n",
       "      <td>0</td>\n",
       "      <td>0</td>\n",
       "      <td>0.300000</td>\n",
       "    </tr>\n",
       "  </tbody>\n",
       "</table>\n",
       "</div>"
      ],
      "text/plain": [
       "       video_id                                       comment_text  likes  \\\n",
       "0   jt2OHQh0HoQ  It's more accurate to call it the M+ (1000) be...      0   \n",
       "1   jt2OHQh0HoQ              To be there with a samsung phone\\n😂😂😂      1   \n",
       "2   jt2OHQh0HoQ  Thank gosh, a place I can watch it without hav...      0   \n",
       "3   jt2OHQh0HoQ  What happened to the home button on the iPhone...      0   \n",
       "4   jt2OHQh0HoQ  Power is the disease.  Care is the cure.  Keep...      0   \n",
       "5   jt2OHQh0HoQ  Keep calm and buy iphone 8 Keep calm and buy i...      0   \n",
       "6   jt2OHQh0HoQ      i am a big fan of youtube and u !!!!!!!!!!!!!      0   \n",
       "7   jt2OHQh0HoQ  You will never find Losers who line up and pay...      0   \n",
       "8   jt2OHQh0HoQ  *APPLE JUST COMMENTED ON MY LAST VIDEO* I'm cr...      0   \n",
       "9   jt2OHQh0HoQ  I'm only here to see Emma, I love her so much!...      0   \n",
       "10  jt2OHQh0HoQ           Mom said: Just one more video before bed      0   \n",
       "11  jt2OHQh0HoQ                           what is the song?? 39:20      0   \n",
       "12  jt2OHQh0HoQ  I started crying at 49:01 when Emma's EP showe...      0   \n",
       "13  jt2OHQh0HoQ  3 years late on wireless charging, 3 years lat...      0   \n",
       "14  jt2OHQh0HoQ                             more one before to bed      0   \n",
       "15  jt2OHQh0HoQ                subscribe me if you love your mummy      0   \n",
       "16  jt2OHQh0HoQ  They really just took the samsung s8 and named...      0   \n",
       "17  jt2OHQh0HoQ  so if someone has a twin sibling both can unlo...      0   \n",
       "18  jt2OHQh0HoQ             For god sake its better than my ps4pro      0   \n",
       "19  jt2OHQh0HoQ     7mp cam what kind of standard is this in 2017?      0   \n",
       "\n",
       "    replies  polarity  \n",
       "0         0  0.450000  \n",
       "1         0  0.000000  \n",
       "2         0  0.000000  \n",
       "3         0  0.000000  \n",
       "4         0  1.000000  \n",
       "5         0  0.300000  \n",
       "6         0  0.000000  \n",
       "7         0 -0.100000  \n",
       "8         0  0.028571  \n",
       "9         0  0.500000  \n",
       "10        0  0.500000  \n",
       "11        0  0.000000  \n",
       "12        0  0.300000  \n",
       "13        0  0.026563  \n",
       "14        0  0.500000  \n",
       "15        0  0.500000  \n",
       "16        0  0.200000  \n",
       "17        0  0.250000  \n",
       "18        0  0.500000  \n",
       "19        0  0.300000  "
      ]
     },
     "execution_count": 11,
     "metadata": {},
     "output_type": "execute_result"
    }
   ],
   "source": [
    "comments.head(20)"
   ]
  },
  {
   "cell_type": "code",
   "execution_count": null,
   "metadata": {},
   "outputs": [],
   "source": []
  }
 ],
 "metadata": {
  "kernelspec": {
   "display_name": "Python 3",
   "language": "python",
   "name": "python3"
  },
  "language_info": {
   "codemirror_mode": {
    "name": "ipython",
    "version": 3
   },
   "file_extension": ".py",
   "mimetype": "text/x-python",
   "name": "python",
   "nbconvert_exporter": "python",
   "pygments_lexer": "ipython3",
   "version": "3.8.5"
  }
 },
 "nbformat": 4,
 "nbformat_minor": 4
}
